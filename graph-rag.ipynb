{
 "cells": [
  {
   "cell_type": "code",
   "execution_count": null,
   "id": "decb791c",
   "metadata": {},
   "outputs": [],
   "source": "# Neo4j GraphRAG Setup\nimport os\nfrom dotenv import load_dotenv\nfrom neo4j import GraphDatabase\nfrom neo4j_graphrag.llm import OpenAILLM\nfrom neo4j_graphrag.embeddings import OpenAIEmbeddings\nfrom neo4j_graphrag.generation import GraphRAG\nfrom neo4j_graphrag.retrievers import Text2CypherRetriever\n\n# Load environment variables\nload_dotenv()"
  },
  {
   "cell_type": "code",
   "execution_count": null,
   "id": "c8181721",
   "metadata": {},
   "outputs": [],
   "source": [
    "# Neo4j Connection Setup\n",
    "NEO4J_URI = os.getenv(\"NEO4J_URI\", \"bolt://localhost:7687\")\n",
    "NEO4J_USERNAME = os.getenv(\"NEO4J_USERNAME\", \"neo4j\")\n",
    "NEO4J_PASSWORD = os.getenv(\"NEO4J_PASSWORD\")\n",
    "\n",
    "# OpenAI API Configuration\n",
    "OPENAI_API_KEY = os.getenv(\"OPENAI_API_KEY\")\n",
    "\n",
    "# Initialize Neo4j driver\n",
    "driver = GraphDatabase.driver(NEO4J_URI, auth=(NEO4J_USERNAME, NEO4J_PASSWORD))\n",
    "\n",
    "# Initialize LLM and Embeddings\n",
    "llm = OpenAILLM(\n",
    "    model_name=\"gpt-4\",\n",
    "    model_params={\"temperature\": 0.0},\n",
    "    openai_api_key=OPENAI_API_KEY\n",
    ")\n",
    "\n",
    "embedder = OpenAIEmbeddings(\n",
    "    model=\"text-embedding-ada-002\",\n",
    "    openai_api_key=OPENAI_API_KEY\n",
    ")"
   ]
  },
  {
   "cell_type": "code",
   "execution_count": null,
   "id": "tvn693uq5td",
   "metadata": {},
   "outputs": [],
   "source": "# Initialize GraphRAG\nrag = GraphRAG(\n    driver=driver,\n    llm=llm,\n    embedder=embedder\n)\n\n# Initialize Text2Cypher Retriever\ntext2cypher = Text2CypherRetriever(\n    driver=driver,\n    llm=llm,\n    neo4j_schema=None,  # Auto-introspect schema from database\n    examples=[\n        # Add example queries to help the LLM understand your domain\n        \"MATCH (n:Person)-[:WORKS_AT]->(c:Company) RETURN n.name, c.name\",\n        \"MATCH (p:Product)-[:BELONGS_TO]->(cat:Category) RETURN p.name, cat.name\"\n    ]\n)\n\n# Test connection\ndef test_connection():\n    try:\n        with driver.session() as session:\n            result = session.run(\"RETURN 'Connection successful!' AS message\")\n            record = result.single()\n            print(record[\"message\"])\n            return True\n    except Exception as e:\n        print(f\"Connection failed: {e}\")\n        return False\n\ntest_connection()"
  },
  {
   "cell_type": "code",
   "execution_count": null,
   "id": "7x2lrm1eis",
   "metadata": {},
   "outputs": [],
   "source": "# Text2Cypher Query Functions\ndef text_to_cypher_query(question):\n    \"\"\"Convert natural language to Cypher and execute\"\"\"\n    try:\n        # The Text2CypherRetriever converts natural language to Cypher and executes it\n        response = text2cypher.search(query_text=question, top_k=5)\n        return response\n    except Exception as e:\n        print(f\"Text2Cypher query failed: {e}\")\n        return None\n\n# Basic GraphRAG Query (using embeddings)\ndef basic_rag_query(question):\n    \"\"\"Perform a basic GraphRAG query using embeddings\"\"\"\n    try:\n        response = rag.search(\n            query_text=question,\n            top_k=5  # Number of relevant results to retrieve\n        )\n        return response\n    except Exception as e:\n        print(f\"RAG query failed: {e}\")\n        return None\n\n# Example usage (uncomment when you have data in your graph)\n# Text2Cypher examples:\n# result1 = text_to_cypher_query(\"Find all people who work at technology companies\")\n# result2 = text_to_cypher_query(\"Show me products in the electronics category\")\n# result3 = text_to_cypher_query(\"What are the relationships between nodes?\")\n\n# Basic RAG example:\n# rag_result = basic_rag_query(\"What is the main topic discussed in the documents?\")\n\nprint(\"Text2Cypher and GraphRAG initialized successfully!\")"
  },
  {
   "cell_type": "code",
   "id": "uqmhvl7xlem",
   "source": "# Schema Exploration and Setup\ndef get_database_schema():\n    \"\"\"Get the current database schema\"\"\"\n    try:\n        with driver.session() as session:\n            # Get node labels\n            labels_result = session.run(\"CALL db.labels()\")\n            labels = [record[\"label\"] for record in labels_result]\n            \n            # Get relationship types\n            rel_types_result = session.run(\"CALL db.relationshipTypes()\")\n            relationships = [record[\"relationshipType\"] for record in rel_types_result]\n            \n            print(\"Node Labels:\", labels)\n            print(\"Relationship Types:\", relationships)\n            \n            return {\"labels\": labels, \"relationships\": relationships}\n    except Exception as e:\n        print(f\"Schema retrieval failed: {e}\")\n        return None\n\n# Update Text2Cypher with current schema (run this after you have data)\ndef update_text2cypher_schema():\n    \"\"\"Update the Text2Cypher retriever with current database schema\"\"\"\n    global text2cypher\n    try:\n        schema_info = get_database_schema()\n        if schema_info:\n            # Reinitialize with updated examples based on your actual schema\n            text2cypher = Text2CypherRetriever(\n                driver=driver,\n                llm=llm,\n                neo4j_schema=None,  # Let it auto-introspect\n                examples=[\n                    # Update these examples based on your actual data model\n                    f\"MATCH (n:{schema_info['labels'][0] if schema_info['labels'] else 'Node'}) RETURN n LIMIT 5\",\n                    \"MATCH (n)-[r]->(m) RETURN type(r), labels(n), labels(m) LIMIT 5\"\n                ]\n            )\n            print(\"Text2Cypher updated with current schema\")\n    except Exception as e:\n        print(f\"Schema update failed: {e}\")\n\n# Uncomment to explore your database schema:\n# get_database_schema()",
   "metadata": {},
   "execution_count": null,
   "outputs": []
  }
 ],
 "metadata": {
  "kernelspec": {
   "display_name": ".venv",
   "language": "python",
   "name": "python3"
  },
  "language_info": {
   "codemirror_mode": {
    "name": "ipython",
    "version": 3
   },
   "file_extension": ".py",
   "mimetype": "text/x-python",
   "name": "python",
   "nbconvert_exporter": "python",
   "pygments_lexer": "ipython3",
   "version": "3.12.9"
  }
 },
 "nbformat": 4,
 "nbformat_minor": 5
}